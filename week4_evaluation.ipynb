{
  "cells": [
    {
      "cell_type": "code",
      "execution_count": 24,
      "id": "837dcaa9-cc0b-4345-bbee-3a09683decf9",
      "metadata": {
        "id": "837dcaa9-cc0b-4345-bbee-3a09683decf9"
      },
      "outputs": [],
      "source": [
        "import numpy as np\n",
        "import pandas as pd\n",
        "from sklearn.metrics import dcg_score,ndcg_score\n",
        "from collections import OrderedDict\n",
        "from sklearn.metrics.pairwise import cosine_similarity"
      ]
    },
    {
      "cell_type": "markdown",
      "id": "41f1f7cb-9441-4fe1-962e-9e4cb3e3c192",
      "metadata": {
        "id": "41f1f7cb-9441-4fe1-962e-9e4cb3e3c192"
      },
      "source": [
        "# **Welcome to week 4 project!**\n",
        "\n",
        "Welcome to the last week of the course -- so excited to see that you've made it to the end! 👏 \n",
        "\n",
        "We’ve already discussed the importance of measuring model performance. As Lord Kelvin said, “To measure is to know – If you cannot measure it, you cannot improve it.” And he was right – metrics are the only way we can actually evaluate our model’s performance!\n",
        "\n",
        "In this week's project, we will touch upon two key aspects related to evaluation:\n",
        "1. Behavioral metrics\n",
        "2. Off-policy evaluation\n",
        "\n",
        "For behavioral metrics, we will work with Spotify music sessions dataset, and implement a few behavioral metrics and understand their relationships with traditional metrics.\n",
        "\n",
        "For off-policy evaluation, we will simulate a dataset where we have logged action policies, and see how IPS is implemented.\n"
      ]
    },
    {
      "cell_type": "markdown",
      "id": "6b7e1f07-9f25-4fbf-8c9f-cd0a2524ac12",
      "metadata": {
        "id": "6b7e1f07-9f25-4fbf-8c9f-cd0a2524ac12"
      },
      "source": [
        "### Goals for this week's project:\n",
        "\n",
        "For this week's project assignment, we will complete the following tasks:\n",
        "1. Implement 3 behavioral metrics and present the correlation plot for them\n",
        "2. Implement another ranking logic (e.g. sort by track popularity, or sort by danceability and compare all metrics on productional ranking logic and this new ranking logic.\n",
        "3. Complete the implementation of two off-policy estimators: Capped IPS and Normalized Capped Importance Sampling (NCIS)\n"
      ]
    },
    {
      "cell_type": "markdown",
      "id": "d0e01328-6834-4b11-85c1-03867e1d4860",
      "metadata": {
        "tags": [],
        "id": "d0e01328-6834-4b11-85c1-03867e1d4860"
      },
      "source": [
        "# Part A: Behavioral metrics\n",
        "\n",
        "Behavioral metrics include factors like what items a user interacts with and how, the amount of time they spend on the platform, and how they spend that time.\n",
        "\n",
        "To define and implement a few behavioral metrics, we will work with the Spotify music sessions dataset.\n",
        "Download the dataset from GDrive: https://drive.google.com/drive/folders/10LGZMgXRuz2qPr_QDbYdVVlKEcnQ25YL?usp=sharing\n",
        "(files: log_mini.cvs and tf_mini.csv)\n",
        "\n",
        "## Spotify music sessions dataset\n",
        "\n",
        "The public part of the dataset consists of roughly 130 million listening sessions with associated user interactions on the Spotify service. In total, users interacted with almost 4 million tracks during these sessions, and the dataset includes acoustic features and metadata for all of these tracks.\n",
        "\n",
        "Detailed description of the dataset can be found here:\n",
        "https://drive.google.com/file/d/1BELTuH4nBeyHna5EAGzJv-HWHKrbxPsf/view?usp=sharing\n",
        "\n"
      ]
    },
    {
      "cell_type": "code",
      "source": [
        "!gdown --folder https://drive.google.com/drive/folders/10LGZMgXRuz2qPr_QDbYdVVlKEcnQ25YL?usp=sharing -O ./"
      ],
      "metadata": {
        "colab": {
          "base_uri": "https://localhost:8080/"
        },
        "id": "XfSETB-PHhOl",
        "outputId": "e1802f01-640a-4e77-b5a5-c3ef17115e51"
      },
      "id": "XfSETB-PHhOl",
      "execution_count": 5,
      "outputs": [
        {
          "output_type": "stream",
          "name": "stdout",
          "text": [
            "Retrieving folder list\n",
            "Processing file 1_jFxa2s7ONQ7nrhqFc1lARP6WChs2T4e data1.txt\n",
            "Processing file 1rEJFi98sLUTYj50Fh8ff33A7NKOoT87c hmdata.zip\n",
            "Processing file 1D3RyRBKBaw0KbLxpJUQDjVIt5CLpE2n9 log_mini.csv\n",
            "Processing file 1BELTuH4nBeyHna5EAGzJv-HWHKrbxPsf Spotify-dataset-description.pdf\n",
            "Processing file 1Z8N0Xf9M34PuN4V5G5uAxasvOCm6TVp4 tf_mini.csv\n",
            "Retrieving folder list completed\n",
            "Building directory structure\n",
            "Building directory structure completed\n",
            "Downloading...\n",
            "From: https://drive.google.com/uc?id=1_jFxa2s7ONQ7nrhqFc1lARP6WChs2T4e\n",
            "To: /content/data/data1.txt\n",
            "100% 158M/158M [00:00<00:00, 296MB/s]\n",
            "Downloading...\n",
            "From: https://drive.google.com/uc?id=1rEJFi98sLUTYj50Fh8ff33A7NKOoT87c\n",
            "To: /content/data/hmdata.zip\n",
            "100% 773M/773M [00:03<00:00, 257MB/s]\n",
            "Downloading...\n",
            "From: https://drive.google.com/uc?id=1D3RyRBKBaw0KbLxpJUQDjVIt5CLpE2n9\n",
            "To: /content/data/log_mini.csv\n",
            "100% 28.9M/28.9M [00:00<00:00, 264MB/s]\n",
            "Downloading...\n",
            "From: https://drive.google.com/uc?id=1BELTuH4nBeyHna5EAGzJv-HWHKrbxPsf\n",
            "To: /content/data/Spotify-dataset-description.pdf\n",
            "100% 176k/176k [00:00<00:00, 113MB/s]\n",
            "Downloading...\n",
            "From: https://drive.google.com/uc?id=1Z8N0Xf9M34PuN4V5G5uAxasvOCm6TVp4\n",
            "To: /content/data/tf_mini.csv\n",
            "100% 28.0M/28.0M [00:00<00:00, 238MB/s]\n",
            "Download completed\n"
          ]
        }
      ]
    },
    {
      "cell_type": "code",
      "execution_count": 20,
      "id": "88eb3b58-062c-4c96-b3f0-2db4407ce1b3",
      "metadata": {
        "id": "88eb3b58-062c-4c96-b3f0-2db4407ce1b3"
      },
      "outputs": [],
      "source": [
        "log = pd.read_csv(\"data/log_mini.csv\")\n",
        "tracks = pd.read_csv(\"data/tf_mini.csv\")"
      ]
    },
    {
      "cell_type": "code",
      "source": [
        "log_tracks = pd.merge(log, tracks, left_on = 'track_id_clean', right_on = 'track_id', how = 'left')"
      ],
      "metadata": {
        "id": "QW2uoBUQsT3t"
      },
      "id": "QW2uoBUQsT3t",
      "execution_count": 21,
      "outputs": []
    },
    {
      "cell_type": "code",
      "execution_count": 10,
      "id": "4e67f877-5e02-4fe2-aa1f-20124fb9c465",
      "metadata": {
        "id": "4e67f877-5e02-4fe2-aa1f-20124fb9c465",
        "outputId": "d8e9172b-6fc4-4db7-f179-911716a6ed4f",
        "colab": {
          "base_uri": "https://localhost:8080/",
          "height": 310
        }
      },
      "outputs": [
        {
          "output_type": "execute_result",
          "data": {
            "text/plain": [
              "                               session_id  session_position  session_length  \\\n",
              "0  0_00006f66-33e5-4de7-a324-2d18e439fc1e                 1              20   \n",
              "1  0_00006f66-33e5-4de7-a324-2d18e439fc1e                 2              20   \n",
              "\n",
              "                           track_id_clean  skip_1  skip_2  skip_3  \\\n",
              "0  t_0479f24c-27d2-46d6-a00c-7ec928f2b539   False   False   False   \n",
              "1  t_9099cd7b-c238-47b7-9381-f23f2c1d1043   False   False   False   \n",
              "\n",
              "   not_skipped  context_switch  no_pause_before_play  ...  \\\n",
              "0         True               0                     0  ...   \n",
              "1         True               0                     1  ...   \n",
              "\n",
              "   long_pause_before_play  hist_user_behavior_n_seekfwd  \\\n",
              "0                       0                             0   \n",
              "1                       0                             0   \n",
              "\n",
              "   hist_user_behavior_n_seekback  hist_user_behavior_is_shuffle  hour_of_day  \\\n",
              "0                              0                           True           16   \n",
              "1                              0                           True           16   \n",
              "\n",
              "         date premium        context_type hist_user_behavior_reason_start  \\\n",
              "0  2018-07-15    True  editorial_playlist                       trackdone   \n",
              "1  2018-07-15    True  editorial_playlist                       trackdone   \n",
              "\n",
              "  hist_user_behavior_reason_end  \n",
              "0                     trackdone  \n",
              "1                     trackdone  \n",
              "\n",
              "[2 rows x 21 columns]"
            ],
            "text/html": [
              "\n",
              "  <div id=\"df-302d9e26-ec5c-4550-8d82-3ceee4bd5872\">\n",
              "    <div class=\"colab-df-container\">\n",
              "      <div>\n",
              "<style scoped>\n",
              "    .dataframe tbody tr th:only-of-type {\n",
              "        vertical-align: middle;\n",
              "    }\n",
              "\n",
              "    .dataframe tbody tr th {\n",
              "        vertical-align: top;\n",
              "    }\n",
              "\n",
              "    .dataframe thead th {\n",
              "        text-align: right;\n",
              "    }\n",
              "</style>\n",
              "<table border=\"1\" class=\"dataframe\">\n",
              "  <thead>\n",
              "    <tr style=\"text-align: right;\">\n",
              "      <th></th>\n",
              "      <th>session_id</th>\n",
              "      <th>session_position</th>\n",
              "      <th>session_length</th>\n",
              "      <th>track_id_clean</th>\n",
              "      <th>skip_1</th>\n",
              "      <th>skip_2</th>\n",
              "      <th>skip_3</th>\n",
              "      <th>not_skipped</th>\n",
              "      <th>context_switch</th>\n",
              "      <th>no_pause_before_play</th>\n",
              "      <th>...</th>\n",
              "      <th>long_pause_before_play</th>\n",
              "      <th>hist_user_behavior_n_seekfwd</th>\n",
              "      <th>hist_user_behavior_n_seekback</th>\n",
              "      <th>hist_user_behavior_is_shuffle</th>\n",
              "      <th>hour_of_day</th>\n",
              "      <th>date</th>\n",
              "      <th>premium</th>\n",
              "      <th>context_type</th>\n",
              "      <th>hist_user_behavior_reason_start</th>\n",
              "      <th>hist_user_behavior_reason_end</th>\n",
              "    </tr>\n",
              "  </thead>\n",
              "  <tbody>\n",
              "    <tr>\n",
              "      <th>0</th>\n",
              "      <td>0_00006f66-33e5-4de7-a324-2d18e439fc1e</td>\n",
              "      <td>1</td>\n",
              "      <td>20</td>\n",
              "      <td>t_0479f24c-27d2-46d6-a00c-7ec928f2b539</td>\n",
              "      <td>False</td>\n",
              "      <td>False</td>\n",
              "      <td>False</td>\n",
              "      <td>True</td>\n",
              "      <td>0</td>\n",
              "      <td>0</td>\n",
              "      <td>...</td>\n",
              "      <td>0</td>\n",
              "      <td>0</td>\n",
              "      <td>0</td>\n",
              "      <td>True</td>\n",
              "      <td>16</td>\n",
              "      <td>2018-07-15</td>\n",
              "      <td>True</td>\n",
              "      <td>editorial_playlist</td>\n",
              "      <td>trackdone</td>\n",
              "      <td>trackdone</td>\n",
              "    </tr>\n",
              "    <tr>\n",
              "      <th>1</th>\n",
              "      <td>0_00006f66-33e5-4de7-a324-2d18e439fc1e</td>\n",
              "      <td>2</td>\n",
              "      <td>20</td>\n",
              "      <td>t_9099cd7b-c238-47b7-9381-f23f2c1d1043</td>\n",
              "      <td>False</td>\n",
              "      <td>False</td>\n",
              "      <td>False</td>\n",
              "      <td>True</td>\n",
              "      <td>0</td>\n",
              "      <td>1</td>\n",
              "      <td>...</td>\n",
              "      <td>0</td>\n",
              "      <td>0</td>\n",
              "      <td>0</td>\n",
              "      <td>True</td>\n",
              "      <td>16</td>\n",
              "      <td>2018-07-15</td>\n",
              "      <td>True</td>\n",
              "      <td>editorial_playlist</td>\n",
              "      <td>trackdone</td>\n",
              "      <td>trackdone</td>\n",
              "    </tr>\n",
              "  </tbody>\n",
              "</table>\n",
              "<p>2 rows × 21 columns</p>\n",
              "</div>\n",
              "      <button class=\"colab-df-convert\" onclick=\"convertToInteractive('df-302d9e26-ec5c-4550-8d82-3ceee4bd5872')\"\n",
              "              title=\"Convert this dataframe to an interactive table.\"\n",
              "              style=\"display:none;\">\n",
              "        \n",
              "  <svg xmlns=\"http://www.w3.org/2000/svg\" height=\"24px\"viewBox=\"0 0 24 24\"\n",
              "       width=\"24px\">\n",
              "    <path d=\"M0 0h24v24H0V0z\" fill=\"none\"/>\n",
              "    <path d=\"M18.56 5.44l.94 2.06.94-2.06 2.06-.94-2.06-.94-.94-2.06-.94 2.06-2.06.94zm-11 1L8.5 8.5l.94-2.06 2.06-.94-2.06-.94L8.5 2.5l-.94 2.06-2.06.94zm10 10l.94 2.06.94-2.06 2.06-.94-2.06-.94-.94-2.06-.94 2.06-2.06.94z\"/><path d=\"M17.41 7.96l-1.37-1.37c-.4-.4-.92-.59-1.43-.59-.52 0-1.04.2-1.43.59L10.3 9.45l-7.72 7.72c-.78.78-.78 2.05 0 2.83L4 21.41c.39.39.9.59 1.41.59.51 0 1.02-.2 1.41-.59l7.78-7.78 2.81-2.81c.8-.78.8-2.07 0-2.86zM5.41 20L4 18.59l7.72-7.72 1.47 1.35L5.41 20z\"/>\n",
              "  </svg>\n",
              "      </button>\n",
              "      \n",
              "  <style>\n",
              "    .colab-df-container {\n",
              "      display:flex;\n",
              "      flex-wrap:wrap;\n",
              "      gap: 12px;\n",
              "    }\n",
              "\n",
              "    .colab-df-convert {\n",
              "      background-color: #E8F0FE;\n",
              "      border: none;\n",
              "      border-radius: 50%;\n",
              "      cursor: pointer;\n",
              "      display: none;\n",
              "      fill: #1967D2;\n",
              "      height: 32px;\n",
              "      padding: 0 0 0 0;\n",
              "      width: 32px;\n",
              "    }\n",
              "\n",
              "    .colab-df-convert:hover {\n",
              "      background-color: #E2EBFA;\n",
              "      box-shadow: 0px 1px 2px rgba(60, 64, 67, 0.3), 0px 1px 3px 1px rgba(60, 64, 67, 0.15);\n",
              "      fill: #174EA6;\n",
              "    }\n",
              "\n",
              "    [theme=dark] .colab-df-convert {\n",
              "      background-color: #3B4455;\n",
              "      fill: #D2E3FC;\n",
              "    }\n",
              "\n",
              "    [theme=dark] .colab-df-convert:hover {\n",
              "      background-color: #434B5C;\n",
              "      box-shadow: 0px 1px 3px 1px rgba(0, 0, 0, 0.15);\n",
              "      filter: drop-shadow(0px 1px 2px rgba(0, 0, 0, 0.3));\n",
              "      fill: #FFFFFF;\n",
              "    }\n",
              "  </style>\n",
              "\n",
              "      <script>\n",
              "        const buttonEl =\n",
              "          document.querySelector('#df-302d9e26-ec5c-4550-8d82-3ceee4bd5872 button.colab-df-convert');\n",
              "        buttonEl.style.display =\n",
              "          google.colab.kernel.accessAllowed ? 'block' : 'none';\n",
              "\n",
              "        async function convertToInteractive(key) {\n",
              "          const element = document.querySelector('#df-302d9e26-ec5c-4550-8d82-3ceee4bd5872');\n",
              "          const dataTable =\n",
              "            await google.colab.kernel.invokeFunction('convertToInteractive',\n",
              "                                                     [key], {});\n",
              "          if (!dataTable) return;\n",
              "\n",
              "          const docLinkHtml = 'Like what you see? Visit the ' +\n",
              "            '<a target=\"_blank\" href=https://colab.research.google.com/notebooks/data_table.ipynb>data table notebook</a>'\n",
              "            + ' to learn more about interactive tables.';\n",
              "          element.innerHTML = '';\n",
              "          dataTable['output_type'] = 'display_data';\n",
              "          await google.colab.output.renderOutput(dataTable, element);\n",
              "          const docLink = document.createElement('div');\n",
              "          docLink.innerHTML = docLinkHtml;\n",
              "          element.appendChild(docLink);\n",
              "        }\n",
              "      </script>\n",
              "    </div>\n",
              "  </div>\n",
              "  "
            ]
          },
          "metadata": {},
          "execution_count": 10
        }
      ],
      "source": [
        "log.head(2)"
      ]
    },
    {
      "cell_type": "code",
      "execution_count": 9,
      "id": "a0539616-fdd7-4cb5-920e-bddb315a9b5d",
      "metadata": {
        "id": "a0539616-fdd7-4cb5-920e-bddb315a9b5d",
        "outputId": "94999df0-9ae0-403f-9304-ba4ab4917239",
        "colab": {
          "base_uri": "https://localhost:8080/",
          "height": 310
        }
      },
      "outputs": [
        {
          "output_type": "execute_result",
          "data": {
            "text/plain": [
              "                                 track_id    duration  release_year  \\\n",
              "0  t_a540e552-16d4-42f8-a185-232bd650ea7d  109.706673          1950   \n",
              "1  t_67965da0-132b-4b1e-8a69-0ef99b32287c  187.693329          1950   \n",
              "\n",
              "   us_popularity_estimate  acousticness  beat_strength  bounciness  \\\n",
              "0               99.975414      0.458040       0.519497    0.504949   \n",
              "1               99.969430      0.916272       0.419223    0.545530   \n",
              "\n",
              "   danceability  dyn_range_mean    energy  ...  time_signature   valence  \\\n",
              "0      0.399767        7.511880  0.817709  ...               4  0.935512   \n",
              "1      0.491235        9.098376  0.154258  ...               3  0.359675   \n",
              "\n",
              "   acoustic_vector_0  acoustic_vector_1  acoustic_vector_2  acoustic_vector_3  \\\n",
              "0          -0.033284          -0.411896           -0.02858           0.349438   \n",
              "1           0.145703          -0.850372            0.12386           0.746904   \n",
              "\n",
              "  acoustic_vector_4  acoustic_vector_5  acoustic_vector_6  acoustic_vector_7  \n",
              "0          0.832467          -0.213871          -0.299464          -0.675907  \n",
              "1          0.371803          -0.420558          -0.213120          -0.525795  \n",
              "\n",
              "[2 rows x 30 columns]"
            ],
            "text/html": [
              "\n",
              "  <div id=\"df-59f372ba-f7e4-490a-9a6d-ade4c24e1504\">\n",
              "    <div class=\"colab-df-container\">\n",
              "      <div>\n",
              "<style scoped>\n",
              "    .dataframe tbody tr th:only-of-type {\n",
              "        vertical-align: middle;\n",
              "    }\n",
              "\n",
              "    .dataframe tbody tr th {\n",
              "        vertical-align: top;\n",
              "    }\n",
              "\n",
              "    .dataframe thead th {\n",
              "        text-align: right;\n",
              "    }\n",
              "</style>\n",
              "<table border=\"1\" class=\"dataframe\">\n",
              "  <thead>\n",
              "    <tr style=\"text-align: right;\">\n",
              "      <th></th>\n",
              "      <th>track_id</th>\n",
              "      <th>duration</th>\n",
              "      <th>release_year</th>\n",
              "      <th>us_popularity_estimate</th>\n",
              "      <th>acousticness</th>\n",
              "      <th>beat_strength</th>\n",
              "      <th>bounciness</th>\n",
              "      <th>danceability</th>\n",
              "      <th>dyn_range_mean</th>\n",
              "      <th>energy</th>\n",
              "      <th>...</th>\n",
              "      <th>time_signature</th>\n",
              "      <th>valence</th>\n",
              "      <th>acoustic_vector_0</th>\n",
              "      <th>acoustic_vector_1</th>\n",
              "      <th>acoustic_vector_2</th>\n",
              "      <th>acoustic_vector_3</th>\n",
              "      <th>acoustic_vector_4</th>\n",
              "      <th>acoustic_vector_5</th>\n",
              "      <th>acoustic_vector_6</th>\n",
              "      <th>acoustic_vector_7</th>\n",
              "    </tr>\n",
              "  </thead>\n",
              "  <tbody>\n",
              "    <tr>\n",
              "      <th>0</th>\n",
              "      <td>t_a540e552-16d4-42f8-a185-232bd650ea7d</td>\n",
              "      <td>109.706673</td>\n",
              "      <td>1950</td>\n",
              "      <td>99.975414</td>\n",
              "      <td>0.458040</td>\n",
              "      <td>0.519497</td>\n",
              "      <td>0.504949</td>\n",
              "      <td>0.399767</td>\n",
              "      <td>7.511880</td>\n",
              "      <td>0.817709</td>\n",
              "      <td>...</td>\n",
              "      <td>4</td>\n",
              "      <td>0.935512</td>\n",
              "      <td>-0.033284</td>\n",
              "      <td>-0.411896</td>\n",
              "      <td>-0.02858</td>\n",
              "      <td>0.349438</td>\n",
              "      <td>0.832467</td>\n",
              "      <td>-0.213871</td>\n",
              "      <td>-0.299464</td>\n",
              "      <td>-0.675907</td>\n",
              "    </tr>\n",
              "    <tr>\n",
              "      <th>1</th>\n",
              "      <td>t_67965da0-132b-4b1e-8a69-0ef99b32287c</td>\n",
              "      <td>187.693329</td>\n",
              "      <td>1950</td>\n",
              "      <td>99.969430</td>\n",
              "      <td>0.916272</td>\n",
              "      <td>0.419223</td>\n",
              "      <td>0.545530</td>\n",
              "      <td>0.491235</td>\n",
              "      <td>9.098376</td>\n",
              "      <td>0.154258</td>\n",
              "      <td>...</td>\n",
              "      <td>3</td>\n",
              "      <td>0.359675</td>\n",
              "      <td>0.145703</td>\n",
              "      <td>-0.850372</td>\n",
              "      <td>0.12386</td>\n",
              "      <td>0.746904</td>\n",
              "      <td>0.371803</td>\n",
              "      <td>-0.420558</td>\n",
              "      <td>-0.213120</td>\n",
              "      <td>-0.525795</td>\n",
              "    </tr>\n",
              "  </tbody>\n",
              "</table>\n",
              "<p>2 rows × 30 columns</p>\n",
              "</div>\n",
              "      <button class=\"colab-df-convert\" onclick=\"convertToInteractive('df-59f372ba-f7e4-490a-9a6d-ade4c24e1504')\"\n",
              "              title=\"Convert this dataframe to an interactive table.\"\n",
              "              style=\"display:none;\">\n",
              "        \n",
              "  <svg xmlns=\"http://www.w3.org/2000/svg\" height=\"24px\"viewBox=\"0 0 24 24\"\n",
              "       width=\"24px\">\n",
              "    <path d=\"M0 0h24v24H0V0z\" fill=\"none\"/>\n",
              "    <path d=\"M18.56 5.44l.94 2.06.94-2.06 2.06-.94-2.06-.94-.94-2.06-.94 2.06-2.06.94zm-11 1L8.5 8.5l.94-2.06 2.06-.94-2.06-.94L8.5 2.5l-.94 2.06-2.06.94zm10 10l.94 2.06.94-2.06 2.06-.94-2.06-.94-.94-2.06-.94 2.06-2.06.94z\"/><path d=\"M17.41 7.96l-1.37-1.37c-.4-.4-.92-.59-1.43-.59-.52 0-1.04.2-1.43.59L10.3 9.45l-7.72 7.72c-.78.78-.78 2.05 0 2.83L4 21.41c.39.39.9.59 1.41.59.51 0 1.02-.2 1.41-.59l7.78-7.78 2.81-2.81c.8-.78.8-2.07 0-2.86zM5.41 20L4 18.59l7.72-7.72 1.47 1.35L5.41 20z\"/>\n",
              "  </svg>\n",
              "      </button>\n",
              "      \n",
              "  <style>\n",
              "    .colab-df-container {\n",
              "      display:flex;\n",
              "      flex-wrap:wrap;\n",
              "      gap: 12px;\n",
              "    }\n",
              "\n",
              "    .colab-df-convert {\n",
              "      background-color: #E8F0FE;\n",
              "      border: none;\n",
              "      border-radius: 50%;\n",
              "      cursor: pointer;\n",
              "      display: none;\n",
              "      fill: #1967D2;\n",
              "      height: 32px;\n",
              "      padding: 0 0 0 0;\n",
              "      width: 32px;\n",
              "    }\n",
              "\n",
              "    .colab-df-convert:hover {\n",
              "      background-color: #E2EBFA;\n",
              "      box-shadow: 0px 1px 2px rgba(60, 64, 67, 0.3), 0px 1px 3px 1px rgba(60, 64, 67, 0.15);\n",
              "      fill: #174EA6;\n",
              "    }\n",
              "\n",
              "    [theme=dark] .colab-df-convert {\n",
              "      background-color: #3B4455;\n",
              "      fill: #D2E3FC;\n",
              "    }\n",
              "\n",
              "    [theme=dark] .colab-df-convert:hover {\n",
              "      background-color: #434B5C;\n",
              "      box-shadow: 0px 1px 3px 1px rgba(0, 0, 0, 0.15);\n",
              "      filter: drop-shadow(0px 1px 2px rgba(0, 0, 0, 0.3));\n",
              "      fill: #FFFFFF;\n",
              "    }\n",
              "  </style>\n",
              "\n",
              "      <script>\n",
              "        const buttonEl =\n",
              "          document.querySelector('#df-59f372ba-f7e4-490a-9a6d-ade4c24e1504 button.colab-df-convert');\n",
              "        buttonEl.style.display =\n",
              "          google.colab.kernel.accessAllowed ? 'block' : 'none';\n",
              "\n",
              "        async function convertToInteractive(key) {\n",
              "          const element = document.querySelector('#df-59f372ba-f7e4-490a-9a6d-ade4c24e1504');\n",
              "          const dataTable =\n",
              "            await google.colab.kernel.invokeFunction('convertToInteractive',\n",
              "                                                     [key], {});\n",
              "          if (!dataTable) return;\n",
              "\n",
              "          const docLinkHtml = 'Like what you see? Visit the ' +\n",
              "            '<a target=\"_blank\" href=https://colab.research.google.com/notebooks/data_table.ipynb>data table notebook</a>'\n",
              "            + ' to learn more about interactive tables.';\n",
              "          element.innerHTML = '';\n",
              "          dataTable['output_type'] = 'display_data';\n",
              "          await google.colab.output.renderOutput(dataTable, element);\n",
              "          const docLink = document.createElement('div');\n",
              "          docLink.innerHTML = docLinkHtml;\n",
              "          element.appendChild(docLink);\n",
              "        }\n",
              "      </script>\n",
              "    </div>\n",
              "  </div>\n",
              "  "
            ]
          },
          "metadata": {},
          "execution_count": 9
        }
      ],
      "source": [
        "tracks.head(2)"
      ]
    },
    {
      "cell_type": "markdown",
      "id": "aba926f1-1f49-4b9d-b358-b780132f0070",
      "metadata": {
        "id": "aba926f1-1f49-4b9d-b358-b780132f0070"
      },
      "source": [
        "### Traditional metrics: ndcg@k\n",
        "\n",
        "We will use the log dataframe as the main dataframe for evaluation of metrics. The skip_1 flag can be used as a relevance signal -- if the user found the recommendation relevant, skip_1 = False. With this relevance signal, we can compute simple ndcg metrics -- one for each session and then averaged across all sessions. This will serve as a base metric for comparison.\n",
        "\n",
        "Note: the ranking logic here is assumed to be the production ranker, i.e. sorting by session_position gives the exact order of tracks the Spotify ranker presented to the user.\n",
        "\n",
        "Lets compute simple skip rate and ndcg metric for the production ranker:"
      ]
    },
    {
      "cell_type": "code",
      "execution_count": 11,
      "id": "394f3143-545a-4f4f-a5c6-01e717b60371",
      "metadata": {
        "id": "394f3143-545a-4f4f-a5c6-01e717b60371",
        "outputId": "62fe7531-d144-4df6-ea45-0ec78a61a574",
        "colab": {
          "base_uri": "https://localhost:8080/"
        }
      },
      "outputs": [
        {
          "output_type": "stream",
          "name": "stdout",
          "text": [
            "average skip rate in the session:  0.40894\n"
          ]
        }
      ],
      "source": [
        "topk = 10\n",
        "\n",
        "skip_rate_session = log.groupby('session_id').apply(lambda x: x.nsmallest(topk,['session_position'])).reset_index(drop = True).groupby(\"session_id\").skip_1.mean().mean()\n",
        "print(\"average skip rate in the session: \",skip_rate_session)"
      ]
    },
    {
      "cell_type": "code",
      "execution_count": 12,
      "id": "c41ace73-6c5a-4bba-ac5e-06d1d270b70c",
      "metadata": {
        "id": "c41ace73-6c5a-4bba-ac5e-06d1d270b70c",
        "outputId": "f28e4ade-9868-4cda-dff3-427ed6686261",
        "colab": {
          "base_uri": "https://localhost:8080/"
        }
      },
      "outputs": [
        {
          "output_type": "stream",
          "name": "stdout",
          "text": [
            "NDCG@k, with k=  10  is:  0.8330266041453142\n"
          ]
        }
      ],
      "source": [
        "topk = 10\n",
        "\n",
        "def get_ndcg(df):\n",
        "    true_relevance = np.asarray(1-np.asarray(df['skip_1']*1.0))\n",
        "    ranker_scores = np.asarray(1/np.asarray(df['session_position'])) # approximate the ranker scores using the session position\n",
        "    return(ndcg_score([true_relevance], [ranker_scores]))\n",
        "\n",
        "\n",
        "ndcg_metric = log.groupby('session_id').apply(lambda x: x.nsmallest(topk,['session_position'])).reset_index(drop = True).groupby(\"session_id\").apply(get_ndcg).mean()\n",
        "print(\"NDCG@k, with k= \",topk,\" is: \",ndcg_metric)"
      ]
    },
    {
      "cell_type": "markdown",
      "id": "85f93877-750a-476d-b530-96659c5a8bd5",
      "metadata": {
        "id": "85f93877-750a-476d-b530-96659c5a8bd5"
      },
      "source": [
        "## Goals for this week:\n",
        "\n",
        "Implement a few behavioral metrics and compare their correlations. We will implement the following three metrics:\n",
        "1. *Time to first skip:* how long did it take for the user to get the first bad recommendation, i.e. a recommendation they skipped. Since we can't easily calculate time, we can use number of songs as a proxy and compute the metric as number of songs it took for the first skip.\n",
        "\n",
        "2. *Sustained dissatisfaction:* we assume that the user is dissatisfied in a sustained manner if they skip 3 songs consecutively.\n",
        "\n",
        "3. *Session coherence:* we define coherence as how similar the recommended musical tracks are. We can use the acoustic_vector of the music tracks to calculate the similarity."
      ]
    },
    {
      "cell_type": "code",
      "execution_count": 13,
      "id": "b8eba1c0-5ef0-40eb-9cbd-18df57607747",
      "metadata": {
        "id": "b8eba1c0-5ef0-40eb-9cbd-18df57607747"
      },
      "outputs": [],
      "source": [
        "# implement session metric 1: time to first skip (number of songs to first skip)\n",
        "## timeToFirstSkip \n",
        "\n",
        "def time_to_first_skip(df):\n",
        "  n = 0\n",
        "  for index, row in df.iterrows():\n",
        "    if row.skip_1 == True:\n",
        "      break\n",
        "    n +=1\n",
        "  return n"
      ]
    },
    {
      "cell_type": "code",
      "execution_count": 14,
      "id": "aabd3d1a-8710-4883-88f5-bf3f926ebba3",
      "metadata": {
        "id": "aabd3d1a-8710-4883-88f5-bf3f926ebba3"
      },
      "outputs": [],
      "source": [
        "# implement session metric 2: sustained dissatisfaction: proportions of sessions with 3 consecutive skips\n",
        "def time_to_sustained_dissatisfication(df):\n",
        "\n",
        "  cons_count = 0\n",
        "\n",
        "  for index, row in df.iterrows():\n",
        "    if row.skip_1 == True:\n",
        "      cons_count +=1\n",
        "\n",
        "      if cons_count == 3:\n",
        "        return 1\n",
        "    else:\n",
        "      cons_count = 0  \n",
        "  return 0"
      ]
    },
    {
      "cell_type": "code",
      "execution_count": 16,
      "id": "5f41f788-daf7-44a4-9612-178f190e58bd",
      "metadata": {
        "id": "5f41f788-daf7-44a4-9612-178f190e58bd"
      },
      "outputs": [],
      "source": [
        "# implement session metric 3: session coherence: average similarity between the top recommended tracks\n",
        "def session_coherence(df):\n",
        "    \n",
        "   df_accoustic_vectors =  df[df.columns[df.columns.str.startswith('acoustic_vector')]]\n",
        "   return cosine_similarity(df_accoustic_vectors).mean()"
      ]
    },
    {
      "cell_type": "code",
      "source": [
        "topk =5\n",
        "\n",
        "time_to_first_skip_metric = log.groupby('session_id').apply(lambda x: x.nsmallest(topk, ['session_position'])).reset_index(drop = True).groupby(\"session_id\").apply(time_to_first_skip).mean()\n",
        "print(\"timetoFirstSkip@k, with k= \",topk,\" is: \",time_to_first_skip_metric)\n",
        "\n",
        "topk =10\n",
        "\n",
        "time_to_first_skip_metric = log.groupby('session_id').apply(lambda x: x.nsmallest(topk, ['session_position'])).reset_index(drop = True).groupby(\"session_id\").apply(time_to_first_skip).mean()\n",
        "print(\"timetoFirstSkip@k, with k= \",topk,\" is: \",time_to_first_skip_metric)"
      ],
      "metadata": {
        "id": "UFQJugeDqWQC",
        "outputId": "d08446d2-3198-407c-e729-6a5e5c3ea395",
        "colab": {
          "base_uri": "https://localhost:8080/"
        }
      },
      "id": "UFQJugeDqWQC",
      "execution_count": 17,
      "outputs": [
        {
          "output_type": "stream",
          "name": "stdout",
          "text": [
            "timetoFirstSkip@k, with k=  5  is:  2.3585\n",
            "timetoFirstSkip@k, with k=  10  is:  3.2057\n"
          ]
        }
      ]
    },
    {
      "cell_type": "code",
      "source": [
        "topk = 5\n",
        "\n",
        "time_to_sustained_dissatisfication_metric = log.groupby('session_id').apply(lambda x: x.nsmallest(topk, ['session_position'])).reset_index(drop = True).groupby(\"session_id\").apply(time_to_sustained_dissatisfication).mean()\n",
        "print(\"time_to_sustained_dissatisfication@k, with k= \",topk,\" is: \",time_to_sustained_dissatisfication_metric)\n",
        "\n",
        "topk = 10\n",
        "\n",
        "time_to_sustained_dissatisfication_metric = log.groupby('session_id').apply(lambda x: x.nsmallest(topk, ['session_position'])).reset_index(drop = True).groupby(\"session_id\").apply(time_to_sustained_dissatisfication).mean()\n",
        "print(\"time_to_sustained_dissatisfication@k, with k= \",topk,\" is: \",time_to_sustained_dissatisfication_metric)"
      ],
      "metadata": {
        "id": "bmFUvLb5qXNS",
        "outputId": "889098d8-8870-4d67-c610-daff0aca9f1f",
        "colab": {
          "base_uri": "https://localhost:8080/"
        }
      },
      "id": "bmFUvLb5qXNS",
      "execution_count": 18,
      "outputs": [
        {
          "output_type": "stream",
          "name": "stdout",
          "text": [
            "time_to_sustained_dissatisfication@k, with k=  5  is:  0.2964\n",
            "time_to_sustained_dissatisfication@k, with k=  10  is:  0.5238\n"
          ]
        }
      ]
    },
    {
      "cell_type": "code",
      "source": [
        "topk = 5\n",
        "\n",
        "session_coherence_metric = log_tracks.groupby('session_id').apply(lambda x: x.nsmallest(topk, ['session_position'])).reset_index(drop = True).groupby(\"session_id\").apply(session_coherence).mean()\n",
        "print(\"session_coherence_metric@k, with k= \",topk,\" is: \",session_coherence_metric)\n",
        "\n",
        "topk = 10\n",
        "\n",
        "session_coherence_metric = log_tracks.groupby('session_id').apply(lambda x: x.nsmallest(topk, ['session_position'])).reset_index(drop = True).groupby(\"session_id\").apply(session_coherence).mean()\n",
        "print(\"session_coherence_metric@k, with k= \",topk,\" is: \",session_coherence_metric)"
      ],
      "metadata": {
        "id": "OWr1Qi_HqZvx",
        "outputId": "bf97dbbd-e8ca-4dcd-af5e-d46a40e5402b",
        "colab": {
          "base_uri": "https://localhost:8080/"
        }
      },
      "id": "OWr1Qi_HqZvx",
      "execution_count": 25,
      "outputs": [
        {
          "output_type": "stream",
          "name": "stdout",
          "text": [
            "session_coherence_metric@k, with k=  5  is:  0.8587308988805195\n",
            "session_coherence_metric@k, with k=  10  is:  0.8356709936623354\n"
          ]
        }
      ]
    },
    {
      "cell_type": "code",
      "source": [
        "topk = 10\n",
        "\n",
        "ndgc_metric = log.groupby('session_id').apply(lambda x: x.nsmallest(topk, ['session_position'])).reset_index(drop = True).groupby(\"session_id\").apply(get_ndcg).head(500)\n",
        "\n",
        "time_to_first_skip_metric = log.groupby('session_id').apply(lambda x: x.nsmallest(topk, ['session_position'])).reset_index(drop = True).groupby(\"session_id\").apply(time_to_first_skip).head(500)\n",
        "time_to_sustained_dissatisfication_metric = log.groupby('session_id').apply(lambda x: x.nsmallest(topk, ['session_position'])).reset_index(drop = True).groupby(\"session_id\").apply(time_to_sustained_dissatisfication).head(500)\n",
        "session_coherence_metric = log_tracks.groupby('session_id').apply(lambda x: x.nsmallest(topk, ['session_position'])).reset_index(drop = True).groupby(\"session_id\").apply(session_coherence).head(500)\n",
        "\n",
        "combined_matrix = pd.concat([ndgc_metric, time_to_first_skip_metric, time_to_sustained_dissatisfication_metric, session_coherence_metric], axis = 1)"
      ],
      "metadata": {
        "id": "2OHLrS37qcaP"
      },
      "id": "2OHLrS37qcaP",
      "execution_count": 26,
      "outputs": []
    },
    {
      "cell_type": "code",
      "source": [
        "import matplotlib.pyplot as plt\n",
        "\n",
        "combined_matrix = combined_matrix.rename(columns = {0:\"ndgc_metric\",1:\"time_to_first_skip_metric\",2:\"time_to_sustained_dissatisfication_metric\", 3:\"session_coherence_metric\"})\n",
        "\n",
        "rs = np.random.RandomState(0)\n",
        "df = pd.DataFrame(rs.rand(10, 10))\n",
        "corr = combined_matrix.corr()\n",
        "corr.style.background_gradient(cmap='coolwarm')"
      ],
      "metadata": {
        "id": "xSHX8sXCqe6U",
        "outputId": "3e40a246-d818-4ed5-8905-c370a061c905",
        "colab": {
          "base_uri": "https://localhost:8080/",
          "height": 175
        }
      },
      "id": "xSHX8sXCqe6U",
      "execution_count": 27,
      "outputs": [
        {
          "output_type": "execute_result",
          "data": {
            "text/plain": [
              "<pandas.io.formats.style.Styler at 0x7f9130405690>"
            ],
            "text/html": [
              "<style type=\"text/css\">\n",
              "#T_44880_row0_col0, #T_44880_row1_col1, #T_44880_row2_col2, #T_44880_row3_col3 {\n",
              "  background-color: #b40426;\n",
              "  color: #f1f1f1;\n",
              "}\n",
              "#T_44880_row0_col1 {\n",
              "  background-color: #f6a283;\n",
              "  color: #000000;\n",
              "}\n",
              "#T_44880_row0_col2 {\n",
              "  background-color: #4b64d5;\n",
              "  color: #f1f1f1;\n",
              "}\n",
              "#T_44880_row0_col3 {\n",
              "  background-color: #5572df;\n",
              "  color: #f1f1f1;\n",
              "}\n",
              "#T_44880_row1_col0 {\n",
              "  background-color: #f7a889;\n",
              "  color: #000000;\n",
              "}\n",
              "#T_44880_row1_col2, #T_44880_row2_col0, #T_44880_row2_col1, #T_44880_row2_col3 {\n",
              "  background-color: #3b4cc0;\n",
              "  color: #f1f1f1;\n",
              "}\n",
              "#T_44880_row1_col3 {\n",
              "  background-color: #465ecf;\n",
              "  color: #f1f1f1;\n",
              "}\n",
              "#T_44880_row3_col0 {\n",
              "  background-color: #a9c6fd;\n",
              "  color: #000000;\n",
              "}\n",
              "#T_44880_row3_col1 {\n",
              "  background-color: #aac7fd;\n",
              "  color: #000000;\n",
              "}\n",
              "#T_44880_row3_col2 {\n",
              "  background-color: #9fbfff;\n",
              "  color: #000000;\n",
              "}\n",
              "</style>\n",
              "<table id=\"T_44880_\" class=\"dataframe\">\n",
              "  <thead>\n",
              "    <tr>\n",
              "      <th class=\"blank level0\" >&nbsp;</th>\n",
              "      <th class=\"col_heading level0 col0\" >ndgc_metric</th>\n",
              "      <th class=\"col_heading level0 col1\" >time_to_first_skip_metric</th>\n",
              "      <th class=\"col_heading level0 col2\" >time_to_sustained_dissatisfication_metric</th>\n",
              "      <th class=\"col_heading level0 col3\" >session_coherence_metric</th>\n",
              "    </tr>\n",
              "  </thead>\n",
              "  <tbody>\n",
              "    <tr>\n",
              "      <th id=\"T_44880_level0_row0\" class=\"row_heading level0 row0\" >ndgc_metric</th>\n",
              "      <td id=\"T_44880_row0_col0\" class=\"data row0 col0\" >1.000000</td>\n",
              "      <td id=\"T_44880_row0_col1\" class=\"data row0 col1\" >0.593521</td>\n",
              "      <td id=\"T_44880_row0_col2\" class=\"data row0 col2\" >-0.413289</td>\n",
              "      <td id=\"T_44880_row0_col3\" class=\"data row0 col3\" >0.052765</td>\n",
              "    </tr>\n",
              "    <tr>\n",
              "      <th id=\"T_44880_level0_row1\" class=\"row_heading level0 row1\" >time_to_first_skip_metric</th>\n",
              "      <td id=\"T_44880_row1_col0\" class=\"data row1 col0\" >0.593521</td>\n",
              "      <td id=\"T_44880_row1_col1\" class=\"data row1 col1\" >1.000000</td>\n",
              "      <td id=\"T_44880_row1_col2\" class=\"data row1 col2\" >-0.495897</td>\n",
              "      <td id=\"T_44880_row1_col3\" class=\"data row1 col3\" >0.003947</td>\n",
              "    </tr>\n",
              "    <tr>\n",
              "      <th id=\"T_44880_level0_row2\" class=\"row_heading level0 row2\" >time_to_sustained_dissatisfication_metric</th>\n",
              "      <td id=\"T_44880_row2_col0\" class=\"data row2 col0\" >-0.413289</td>\n",
              "      <td id=\"T_44880_row2_col1\" class=\"data row2 col1\" >-0.495897</td>\n",
              "      <td id=\"T_44880_row2_col2\" class=\"data row2 col2\" >1.000000</td>\n",
              "      <td id=\"T_44880_row2_col3\" class=\"data row2 col3\" >-0.040614</td>\n",
              "    </tr>\n",
              "    <tr>\n",
              "      <th id=\"T_44880_level0_row3\" class=\"row_heading level0 row3\" >session_coherence_metric</th>\n",
              "      <td id=\"T_44880_row3_col0\" class=\"data row3 col0\" >0.052765</td>\n",
              "      <td id=\"T_44880_row3_col1\" class=\"data row3 col1\" >0.003947</td>\n",
              "      <td id=\"T_44880_row3_col2\" class=\"data row3 col2\" >-0.040614</td>\n",
              "      <td id=\"T_44880_row3_col3\" class=\"data row3 col3\" >1.000000</td>\n",
              "    </tr>\n",
              "  </tbody>\n",
              "</table>\n"
            ]
          },
          "metadata": {},
          "execution_count": 27
        }
      ]
    },
    {
      "cell_type": "code",
      "source": [
        "combined_matrix.corr()"
      ],
      "metadata": {
        "id": "PYSY9TSSsbAO",
        "outputId": "e04ee2e8-2076-4955-d1b2-c9a6af89a9be",
        "colab": {
          "base_uri": "https://localhost:8080/",
          "height": 175
        }
      },
      "id": "PYSY9TSSsbAO",
      "execution_count": 28,
      "outputs": [
        {
          "output_type": "execute_result",
          "data": {
            "text/plain": [
              "                                           ndgc_metric  \\\n",
              "ndgc_metric                                   1.000000   \n",
              "time_to_first_skip_metric                     0.593521   \n",
              "time_to_sustained_dissatisfication_metric    -0.413289   \n",
              "session_coherence_metric                      0.052765   \n",
              "\n",
              "                                           time_to_first_skip_metric  \\\n",
              "ndgc_metric                                                 0.593521   \n",
              "time_to_first_skip_metric                                   1.000000   \n",
              "time_to_sustained_dissatisfication_metric                  -0.495897   \n",
              "session_coherence_metric                                    0.003947   \n",
              "\n",
              "                                           time_to_sustained_dissatisfication_metric  \\\n",
              "ndgc_metric                                                                -0.413289   \n",
              "time_to_first_skip_metric                                                  -0.495897   \n",
              "time_to_sustained_dissatisfication_metric                                   1.000000   \n",
              "session_coherence_metric                                                   -0.040614   \n",
              "\n",
              "                                           session_coherence_metric  \n",
              "ndgc_metric                                                0.052765  \n",
              "time_to_first_skip_metric                                  0.003947  \n",
              "time_to_sustained_dissatisfication_metric                 -0.040614  \n",
              "session_coherence_metric                                   1.000000  "
            ],
            "text/html": [
              "\n",
              "  <div id=\"df-466504e2-53f1-4dd3-b339-55e4af280a7a\">\n",
              "    <div class=\"colab-df-container\">\n",
              "      <div>\n",
              "<style scoped>\n",
              "    .dataframe tbody tr th:only-of-type {\n",
              "        vertical-align: middle;\n",
              "    }\n",
              "\n",
              "    .dataframe tbody tr th {\n",
              "        vertical-align: top;\n",
              "    }\n",
              "\n",
              "    .dataframe thead th {\n",
              "        text-align: right;\n",
              "    }\n",
              "</style>\n",
              "<table border=\"1\" class=\"dataframe\">\n",
              "  <thead>\n",
              "    <tr style=\"text-align: right;\">\n",
              "      <th></th>\n",
              "      <th>ndgc_metric</th>\n",
              "      <th>time_to_first_skip_metric</th>\n",
              "      <th>time_to_sustained_dissatisfication_metric</th>\n",
              "      <th>session_coherence_metric</th>\n",
              "    </tr>\n",
              "  </thead>\n",
              "  <tbody>\n",
              "    <tr>\n",
              "      <th>ndgc_metric</th>\n",
              "      <td>1.000000</td>\n",
              "      <td>0.593521</td>\n",
              "      <td>-0.413289</td>\n",
              "      <td>0.052765</td>\n",
              "    </tr>\n",
              "    <tr>\n",
              "      <th>time_to_first_skip_metric</th>\n",
              "      <td>0.593521</td>\n",
              "      <td>1.000000</td>\n",
              "      <td>-0.495897</td>\n",
              "      <td>0.003947</td>\n",
              "    </tr>\n",
              "    <tr>\n",
              "      <th>time_to_sustained_dissatisfication_metric</th>\n",
              "      <td>-0.413289</td>\n",
              "      <td>-0.495897</td>\n",
              "      <td>1.000000</td>\n",
              "      <td>-0.040614</td>\n",
              "    </tr>\n",
              "    <tr>\n",
              "      <th>session_coherence_metric</th>\n",
              "      <td>0.052765</td>\n",
              "      <td>0.003947</td>\n",
              "      <td>-0.040614</td>\n",
              "      <td>1.000000</td>\n",
              "    </tr>\n",
              "  </tbody>\n",
              "</table>\n",
              "</div>\n",
              "      <button class=\"colab-df-convert\" onclick=\"convertToInteractive('df-466504e2-53f1-4dd3-b339-55e4af280a7a')\"\n",
              "              title=\"Convert this dataframe to an interactive table.\"\n",
              "              style=\"display:none;\">\n",
              "        \n",
              "  <svg xmlns=\"http://www.w3.org/2000/svg\" height=\"24px\"viewBox=\"0 0 24 24\"\n",
              "       width=\"24px\">\n",
              "    <path d=\"M0 0h24v24H0V0z\" fill=\"none\"/>\n",
              "    <path d=\"M18.56 5.44l.94 2.06.94-2.06 2.06-.94-2.06-.94-.94-2.06-.94 2.06-2.06.94zm-11 1L8.5 8.5l.94-2.06 2.06-.94-2.06-.94L8.5 2.5l-.94 2.06-2.06.94zm10 10l.94 2.06.94-2.06 2.06-.94-2.06-.94-.94-2.06-.94 2.06-2.06.94z\"/><path d=\"M17.41 7.96l-1.37-1.37c-.4-.4-.92-.59-1.43-.59-.52 0-1.04.2-1.43.59L10.3 9.45l-7.72 7.72c-.78.78-.78 2.05 0 2.83L4 21.41c.39.39.9.59 1.41.59.51 0 1.02-.2 1.41-.59l7.78-7.78 2.81-2.81c.8-.78.8-2.07 0-2.86zM5.41 20L4 18.59l7.72-7.72 1.47 1.35L5.41 20z\"/>\n",
              "  </svg>\n",
              "      </button>\n",
              "      \n",
              "  <style>\n",
              "    .colab-df-container {\n",
              "      display:flex;\n",
              "      flex-wrap:wrap;\n",
              "      gap: 12px;\n",
              "    }\n",
              "\n",
              "    .colab-df-convert {\n",
              "      background-color: #E8F0FE;\n",
              "      border: none;\n",
              "      border-radius: 50%;\n",
              "      cursor: pointer;\n",
              "      display: none;\n",
              "      fill: #1967D2;\n",
              "      height: 32px;\n",
              "      padding: 0 0 0 0;\n",
              "      width: 32px;\n",
              "    }\n",
              "\n",
              "    .colab-df-convert:hover {\n",
              "      background-color: #E2EBFA;\n",
              "      box-shadow: 0px 1px 2px rgba(60, 64, 67, 0.3), 0px 1px 3px 1px rgba(60, 64, 67, 0.15);\n",
              "      fill: #174EA6;\n",
              "    }\n",
              "\n",
              "    [theme=dark] .colab-df-convert {\n",
              "      background-color: #3B4455;\n",
              "      fill: #D2E3FC;\n",
              "    }\n",
              "\n",
              "    [theme=dark] .colab-df-convert:hover {\n",
              "      background-color: #434B5C;\n",
              "      box-shadow: 0px 1px 3px 1px rgba(0, 0, 0, 0.15);\n",
              "      filter: drop-shadow(0px 1px 2px rgba(0, 0, 0, 0.3));\n",
              "      fill: #FFFFFF;\n",
              "    }\n",
              "  </style>\n",
              "\n",
              "      <script>\n",
              "        const buttonEl =\n",
              "          document.querySelector('#df-466504e2-53f1-4dd3-b339-55e4af280a7a button.colab-df-convert');\n",
              "        buttonEl.style.display =\n",
              "          google.colab.kernel.accessAllowed ? 'block' : 'none';\n",
              "\n",
              "        async function convertToInteractive(key) {\n",
              "          const element = document.querySelector('#df-466504e2-53f1-4dd3-b339-55e4af280a7a');\n",
              "          const dataTable =\n",
              "            await google.colab.kernel.invokeFunction('convertToInteractive',\n",
              "                                                     [key], {});\n",
              "          if (!dataTable) return;\n",
              "\n",
              "          const docLinkHtml = 'Like what you see? Visit the ' +\n",
              "            '<a target=\"_blank\" href=https://colab.research.google.com/notebooks/data_table.ipynb>data table notebook</a>'\n",
              "            + ' to learn more about interactive tables.';\n",
              "          element.innerHTML = '';\n",
              "          dataTable['output_type'] = 'display_data';\n",
              "          await google.colab.output.renderOutput(dataTable, element);\n",
              "          const docLink = document.createElement('div');\n",
              "          docLink.innerHTML = docLinkHtml;\n",
              "          element.appendChild(docLink);\n",
              "        }\n",
              "      </script>\n",
              "    </div>\n",
              "  </div>\n",
              "  "
            ]
          },
          "metadata": {},
          "execution_count": 28
        }
      ]
    },
    {
      "cell_type": "markdown",
      "id": "26c7ffa6-2c35-45c0-9d6d-78ab11f30632",
      "metadata": {
        "id": "26c7ffa6-2c35-45c0-9d6d-78ab11f30632"
      },
      "source": [
        "Once these metrics are implemented, compute these metrics for topk=5 and topk=10 compare their estimates for the production ranker as a correlation plot. Please note which metrics are correlated with ndcg metric.\n",
        "\n",
        "**Additional goal:**\n",
        "Implement another simple ranking logic, and compare the performance of both the production ranker and new ranking policy on the ndcg and three behavioral metrics.\n",
        "A simple ranking policy could include sortby track popularity, or sort by danceability score for the track.\n",
        "\n",
        "Please report the performance of these rankers on all four metrics."
      ]
    },
    {
      "cell_type": "code",
      "execution_count": null,
      "id": "6b518677-2ffd-4e9e-97cc-7de494ac8543",
      "metadata": {
        "id": "6b518677-2ffd-4e9e-97cc-7de494ac8543"
      },
      "outputs": [],
      "source": [
        ""
      ]
    },
    {
      "cell_type": "code",
      "execution_count": null,
      "id": "5a9bef72-0d7f-41c3-a36e-fa18dbc28b41",
      "metadata": {
        "id": "5a9bef72-0d7f-41c3-a36e-fa18dbc28b41"
      },
      "outputs": [],
      "source": [
        ""
      ]
    },
    {
      "cell_type": "code",
      "execution_count": null,
      "id": "8cd9ae14-8a5e-4fc7-b69b-ed9279021422",
      "metadata": {
        "id": "8cd9ae14-8a5e-4fc7-b69b-ed9279021422"
      },
      "outputs": [],
      "source": [
        ""
      ]
    },
    {
      "cell_type": "markdown",
      "id": "b7e4812d-3b39-4def-a293-7da0297f32a1",
      "metadata": {
        "id": "b7e4812d-3b39-4def-a293-7da0297f32a1"
      },
      "source": [
        "# Part B: Off Policy Evaluation\n",
        "\n",
        "We log listener behavior based on the recommendations that the production recommender serves to the listener. Using this data to assess any new recommender system, however, can present challenges – the production recommender and the new recommender can drastically differ in the results that they display to the user. For example, maybe the new recommender presents a lot of niche content, while the production recommender presents a lot of popular options. This can be an issue when evaluating a new recommender – If you don’t have any feedback on a recommendation because you never presented it to a user, how can you evaluate whether it’s a good recommendation?\n",
        "If you have a new policy to test that’s very similar to your old approach, then this won’t be an issue, and it’ll be easy to test! However, if the policy is very different, then you’ll need to collect special logged data.\n",
        "\n",
        "In this part of the project, we will simulate a recommendation policy and leverage counterfactual estimators as metrics to compare performance.\n"
      ]
    },
    {
      "cell_type": "markdown",
      "id": "16ddd6a0-4481-4221-a36d-577276d8b728",
      "metadata": {
        "id": "16ddd6a0-4481-4221-a36d-577276d8b728"
      },
      "source": [
        "Lets first begin by generating a few users and products. For ease of simulation, we assume users derive equal satisfaction from each item."
      ]
    },
    {
      "cell_type": "code",
      "execution_count": 31,
      "id": "539cfda5-98eb-415c-a98b-ccb9acc22031",
      "metadata": {
        "id": "539cfda5-98eb-415c-a98b-ccb9acc22031"
      },
      "outputs": [],
      "source": [
        "\n",
        "users = np.array([\"user1\", \"user2\", \"user3\"])\n",
        "products = np.array(\n",
        "    [\n",
        "        \"product_a\",\n",
        "        \"product_b\",\n",
        "        \"product_c\",\n",
        "        \"product_d\",\n",
        "        \"product_e\",\n",
        "        \"product_f\",\n",
        "        \"product_g\",\n",
        "    ]\n",
        ")\n",
        "\n",
        "satisfaction = {\n",
        "    \"product_a\": 100,\n",
        "    \"product_b\": 150,\n",
        "    \"product_c\": 100,\n",
        "    \"product_d\": 200,\n",
        "    \"product_e\": 500,\n",
        "    \"product_f\": 120,\n",
        "    \"product_g\": 160,\n",
        "}\n",
        "\n"
      ]
    },
    {
      "cell_type": "markdown",
      "id": "1a77fd2c-7586-4ea5-9e28-67d6f3050bab",
      "metadata": {
        "id": "1a77fd2c-7586-4ea5-9e28-67d6f3050bab"
      },
      "source": [
        "Lets also implement whether a given user will accept a given recommendation or not. Once done, we can implement a target policy that makes recommendations."
      ]
    },
    {
      "cell_type": "code",
      "execution_count": 32,
      "id": "fd59b6ef-5d27-47b5-8b39-8adfd8eae51d",
      "metadata": {
        "id": "fd59b6ef-5d27-47b5-8b39-8adfd8eae51d"
      },
      "outputs": [],
      "source": [
        "\n",
        "def will_purchase(user, product):\n",
        "    if user == \"user1\" and (\n",
        "        product == \"product_a\" or product == \"product_b\" or product == \"product_c\"\n",
        "    ):\n",
        "        return True\n",
        "    elif user == \"user2\" and (product == \"product_d\" or product == \"product_e\"):\n",
        "        return True\n",
        "    elif user == \"user3\" and (product == \"product_f\" or product == \"product_g\"):\n",
        "        return True\n",
        "    else:\n",
        "        return False\n",
        "\n",
        "\n",
        "def choose_user():\n",
        "    return np.random.choice(users, size=1)\n",
        "\n",
        "\n",
        "def logging_policy():\n",
        "    return np.random.choice(products, size=1), 1 / len(products)\n",
        "\n",
        "\n",
        "class TargetPolicy:\n",
        "    def __init__(self):\n",
        "        self.user_probs = {\n",
        "            \"user1\": np.array([0.1, 0.1, 0.2, 0.1, 0.15, 0.15, 0.20]),\n",
        "            \"user2\": np.array([0.1, 0.10, 0.05, 0.25, 0.3, 0.1, 0.1]),\n",
        "            \"user3\": np.array([0.06, 0.06, 0.3, 0.06, 0.06, 0.4, 0.06]),\n",
        "        }\n",
        "\n",
        "        for user, probs in self.user_probs.items():\n",
        "            assert probs.sum() == 1\n",
        "            assert len(probs) == len(products)\n",
        "\n",
        "    def recommend(self, user):\n",
        "        user_prob = self.user_probs[user]\n",
        "        product = np.random.choice(products, size=1, p=user_prob)\n",
        "        product_idx = np.where(products == product)\n",
        "        prob = user_prob[product_idx]\n",
        "\n",
        "        return product, prob\n",
        "\n",
        "    def get_prob(self, user, product):\n",
        "        user_prob = self.user_probs[user]\n",
        "        product_idx = np.where(products == product)\n",
        "        product_prob = user_prob[product_idx]\n",
        "\n",
        "        return product_prob\n",
        "\n"
      ]
    },
    {
      "cell_type": "markdown",
      "id": "b0d1d10d-a993-42fb-a26c-106a46001719",
      "metadata": {
        "id": "b0d1d10d-a993-42fb-a26c-106a46001719"
      },
      "source": [
        "Having defined all key components of the dataset generation, lets create logged data that we can finally use for evaluation purposes:"
      ]
    },
    {
      "cell_type": "code",
      "execution_count": 33,
      "id": "e78f2bd2-5ad1-4b9e-87b5-abad2b3098a2",
      "metadata": {
        "id": "e78f2bd2-5ad1-4b9e-87b5-abad2b3098a2"
      },
      "outputs": [],
      "source": [
        "def compute_satisfaction(user, product):\n",
        "    if will_purchase(user, product):\n",
        "        return satisfaction[product.item()]\n",
        "    else:\n",
        "        return 0\n",
        "\n",
        "\n",
        "def create_logs(n=1000):\n",
        "    logs = []\n",
        "    target_policy = TargetPolicy()\n",
        "\n",
        "    for _ in range(n):\n",
        "        user = choose_user()\n",
        "\n",
        "        logging_product, logging_prob = logging_policy()\n",
        "        model_prob = target_policy.get_prob(user.item(), logging_product)\n",
        "\n",
        "        target_product, _ = target_policy.recommend(user.item())\n",
        "\n",
        "        logging_satisfaction = compute_satisfaction(user, logging_product)\n",
        "        target_satisfaction = compute_satisfaction(user, target_product)\n",
        "\n",
        "        log = OrderedDict(\n",
        "            {\n",
        "                \"user_features\": user.item(),\n",
        "                \"item_placed\": logging_product.item(),\n",
        "                \"item_prob\": logging_prob,\n",
        "                \"item_satisfaction\": logging_satisfaction,\n",
        "                \"model_prob\": model_prob.item(),\n",
        "                \"ab_test_satisfaction\": target_satisfaction,\n",
        "            }\n",
        "        )\n",
        "\n",
        "        logs.append(log)\n",
        "\n",
        "    return pd.DataFrame(logs)"
      ]
    },
    {
      "cell_type": "markdown",
      "id": "bf3731a5-75ba-4522-889a-a3bdba5d46dc",
      "metadata": {
        "id": "bf3731a5-75ba-4522-889a-a3bdba5d46dc"
      },
      "source": [
        "Here is what ur logged data now looks like:"
      ]
    },
    {
      "cell_type": "code",
      "execution_count": 34,
      "id": "4ff18b51-9484-4e15-9f73-c8950343fac9",
      "metadata": {
        "id": "4ff18b51-9484-4e15-9f73-c8950343fac9",
        "outputId": "6e8cb9bb-24c9-4284-d6b1-16d09a2923d3",
        "colab": {
          "base_uri": "https://localhost:8080/",
          "height": 206
        }
      },
      "outputs": [
        {
          "output_type": "execute_result",
          "data": {
            "text/plain": [
              "  user_features item_placed  item_prob  item_satisfaction  model_prob  \\\n",
              "0         user1   product_f   0.142857                  0        0.15   \n",
              "1         user1   product_b   0.142857                150        0.10   \n",
              "2         user3   product_d   0.142857                  0        0.06   \n",
              "3         user3   product_e   0.142857                  0        0.06   \n",
              "4         user2   product_f   0.142857                  0        0.10   \n",
              "\n",
              "   ab_test_satisfaction  \n",
              "0                   100  \n",
              "1                     0  \n",
              "2                   120  \n",
              "3                   120  \n",
              "4                   200  "
            ],
            "text/html": [
              "\n",
              "  <div id=\"df-7a2395ec-5379-4885-931e-5951c4b2b7c1\">\n",
              "    <div class=\"colab-df-container\">\n",
              "      <div>\n",
              "<style scoped>\n",
              "    .dataframe tbody tr th:only-of-type {\n",
              "        vertical-align: middle;\n",
              "    }\n",
              "\n",
              "    .dataframe tbody tr th {\n",
              "        vertical-align: top;\n",
              "    }\n",
              "\n",
              "    .dataframe thead th {\n",
              "        text-align: right;\n",
              "    }\n",
              "</style>\n",
              "<table border=\"1\" class=\"dataframe\">\n",
              "  <thead>\n",
              "    <tr style=\"text-align: right;\">\n",
              "      <th></th>\n",
              "      <th>user_features</th>\n",
              "      <th>item_placed</th>\n",
              "      <th>item_prob</th>\n",
              "      <th>item_satisfaction</th>\n",
              "      <th>model_prob</th>\n",
              "      <th>ab_test_satisfaction</th>\n",
              "    </tr>\n",
              "  </thead>\n",
              "  <tbody>\n",
              "    <tr>\n",
              "      <th>0</th>\n",
              "      <td>user1</td>\n",
              "      <td>product_f</td>\n",
              "      <td>0.142857</td>\n",
              "      <td>0</td>\n",
              "      <td>0.15</td>\n",
              "      <td>100</td>\n",
              "    </tr>\n",
              "    <tr>\n",
              "      <th>1</th>\n",
              "      <td>user1</td>\n",
              "      <td>product_b</td>\n",
              "      <td>0.142857</td>\n",
              "      <td>150</td>\n",
              "      <td>0.10</td>\n",
              "      <td>0</td>\n",
              "    </tr>\n",
              "    <tr>\n",
              "      <th>2</th>\n",
              "      <td>user3</td>\n",
              "      <td>product_d</td>\n",
              "      <td>0.142857</td>\n",
              "      <td>0</td>\n",
              "      <td>0.06</td>\n",
              "      <td>120</td>\n",
              "    </tr>\n",
              "    <tr>\n",
              "      <th>3</th>\n",
              "      <td>user3</td>\n",
              "      <td>product_e</td>\n",
              "      <td>0.142857</td>\n",
              "      <td>0</td>\n",
              "      <td>0.06</td>\n",
              "      <td>120</td>\n",
              "    </tr>\n",
              "    <tr>\n",
              "      <th>4</th>\n",
              "      <td>user2</td>\n",
              "      <td>product_f</td>\n",
              "      <td>0.142857</td>\n",
              "      <td>0</td>\n",
              "      <td>0.10</td>\n",
              "      <td>200</td>\n",
              "    </tr>\n",
              "  </tbody>\n",
              "</table>\n",
              "</div>\n",
              "      <button class=\"colab-df-convert\" onclick=\"convertToInteractive('df-7a2395ec-5379-4885-931e-5951c4b2b7c1')\"\n",
              "              title=\"Convert this dataframe to an interactive table.\"\n",
              "              style=\"display:none;\">\n",
              "        \n",
              "  <svg xmlns=\"http://www.w3.org/2000/svg\" height=\"24px\"viewBox=\"0 0 24 24\"\n",
              "       width=\"24px\">\n",
              "    <path d=\"M0 0h24v24H0V0z\" fill=\"none\"/>\n",
              "    <path d=\"M18.56 5.44l.94 2.06.94-2.06 2.06-.94-2.06-.94-.94-2.06-.94 2.06-2.06.94zm-11 1L8.5 8.5l.94-2.06 2.06-.94-2.06-.94L8.5 2.5l-.94 2.06-2.06.94zm10 10l.94 2.06.94-2.06 2.06-.94-2.06-.94-.94-2.06-.94 2.06-2.06.94z\"/><path d=\"M17.41 7.96l-1.37-1.37c-.4-.4-.92-.59-1.43-.59-.52 0-1.04.2-1.43.59L10.3 9.45l-7.72 7.72c-.78.78-.78 2.05 0 2.83L4 21.41c.39.39.9.59 1.41.59.51 0 1.02-.2 1.41-.59l7.78-7.78 2.81-2.81c.8-.78.8-2.07 0-2.86zM5.41 20L4 18.59l7.72-7.72 1.47 1.35L5.41 20z\"/>\n",
              "  </svg>\n",
              "      </button>\n",
              "      \n",
              "  <style>\n",
              "    .colab-df-container {\n",
              "      display:flex;\n",
              "      flex-wrap:wrap;\n",
              "      gap: 12px;\n",
              "    }\n",
              "\n",
              "    .colab-df-convert {\n",
              "      background-color: #E8F0FE;\n",
              "      border: none;\n",
              "      border-radius: 50%;\n",
              "      cursor: pointer;\n",
              "      display: none;\n",
              "      fill: #1967D2;\n",
              "      height: 32px;\n",
              "      padding: 0 0 0 0;\n",
              "      width: 32px;\n",
              "    }\n",
              "\n",
              "    .colab-df-convert:hover {\n",
              "      background-color: #E2EBFA;\n",
              "      box-shadow: 0px 1px 2px rgba(60, 64, 67, 0.3), 0px 1px 3px 1px rgba(60, 64, 67, 0.15);\n",
              "      fill: #174EA6;\n",
              "    }\n",
              "\n",
              "    [theme=dark] .colab-df-convert {\n",
              "      background-color: #3B4455;\n",
              "      fill: #D2E3FC;\n",
              "    }\n",
              "\n",
              "    [theme=dark] .colab-df-convert:hover {\n",
              "      background-color: #434B5C;\n",
              "      box-shadow: 0px 1px 3px 1px rgba(0, 0, 0, 0.15);\n",
              "      filter: drop-shadow(0px 1px 2px rgba(0, 0, 0, 0.3));\n",
              "      fill: #FFFFFF;\n",
              "    }\n",
              "  </style>\n",
              "\n",
              "      <script>\n",
              "        const buttonEl =\n",
              "          document.querySelector('#df-7a2395ec-5379-4885-931e-5951c4b2b7c1 button.colab-df-convert');\n",
              "        buttonEl.style.display =\n",
              "          google.colab.kernel.accessAllowed ? 'block' : 'none';\n",
              "\n",
              "        async function convertToInteractive(key) {\n",
              "          const element = document.querySelector('#df-7a2395ec-5379-4885-931e-5951c4b2b7c1');\n",
              "          const dataTable =\n",
              "            await google.colab.kernel.invokeFunction('convertToInteractive',\n",
              "                                                     [key], {});\n",
              "          if (!dataTable) return;\n",
              "\n",
              "          const docLinkHtml = 'Like what you see? Visit the ' +\n",
              "            '<a target=\"_blank\" href=https://colab.research.google.com/notebooks/data_table.ipynb>data table notebook</a>'\n",
              "            + ' to learn more about interactive tables.';\n",
              "          element.innerHTML = '';\n",
              "          dataTable['output_type'] = 'display_data';\n",
              "          await google.colab.output.renderOutput(dataTable, element);\n",
              "          const docLink = document.createElement('div');\n",
              "          docLink.innerHTML = docLinkHtml;\n",
              "          element.appendChild(docLink);\n",
              "        }\n",
              "      </script>\n",
              "    </div>\n",
              "  </div>\n",
              "  "
            ]
          },
          "metadata": {},
          "execution_count": 34
        }
      ],
      "source": [
        "logs = create_logs(n=1000)\n",
        "logs.head(5)"
      ]
    },
    {
      "cell_type": "code",
      "execution_count": 35,
      "id": "6030ee25-943c-4c1e-8031-f780506830f5",
      "metadata": {
        "id": "6030ee25-943c-4c1e-8031-f780506830f5",
        "outputId": "72d9e1b0-8114-4eb2-96b3-4d36955c2e80",
        "colab": {
          "base_uri": "https://localhost:8080/",
          "height": 363
        }
      },
      "outputs": [
        {
          "output_type": "execute_result",
          "data": {
            "text/plain": [
              "    user_features item_placed  item_prob  item_satisfaction\n",
              "38          user2   product_f   0.142857                  0\n",
              "679         user2   product_d   0.142857                200\n",
              "403         user3   product_b   0.142857                  0\n",
              "505         user3   product_a   0.142857                  0\n",
              "536         user3   product_a   0.142857                  0\n",
              "47          user2   product_e   0.142857                500\n",
              "570         user1   product_g   0.142857                  0\n",
              "592         user3   product_e   0.142857                  0\n",
              "589         user2   product_c   0.142857                  0\n",
              "703         user3   product_g   0.142857                160"
            ],
            "text/html": [
              "\n",
              "  <div id=\"df-ad8e0e1a-e04d-4086-83c7-cfcb5cf9acf5\">\n",
              "    <div class=\"colab-df-container\">\n",
              "      <div>\n",
              "<style scoped>\n",
              "    .dataframe tbody tr th:only-of-type {\n",
              "        vertical-align: middle;\n",
              "    }\n",
              "\n",
              "    .dataframe tbody tr th {\n",
              "        vertical-align: top;\n",
              "    }\n",
              "\n",
              "    .dataframe thead th {\n",
              "        text-align: right;\n",
              "    }\n",
              "</style>\n",
              "<table border=\"1\" class=\"dataframe\">\n",
              "  <thead>\n",
              "    <tr style=\"text-align: right;\">\n",
              "      <th></th>\n",
              "      <th>user_features</th>\n",
              "      <th>item_placed</th>\n",
              "      <th>item_prob</th>\n",
              "      <th>item_satisfaction</th>\n",
              "    </tr>\n",
              "  </thead>\n",
              "  <tbody>\n",
              "    <tr>\n",
              "      <th>38</th>\n",
              "      <td>user2</td>\n",
              "      <td>product_f</td>\n",
              "      <td>0.142857</td>\n",
              "      <td>0</td>\n",
              "    </tr>\n",
              "    <tr>\n",
              "      <th>679</th>\n",
              "      <td>user2</td>\n",
              "      <td>product_d</td>\n",
              "      <td>0.142857</td>\n",
              "      <td>200</td>\n",
              "    </tr>\n",
              "    <tr>\n",
              "      <th>403</th>\n",
              "      <td>user3</td>\n",
              "      <td>product_b</td>\n",
              "      <td>0.142857</td>\n",
              "      <td>0</td>\n",
              "    </tr>\n",
              "    <tr>\n",
              "      <th>505</th>\n",
              "      <td>user3</td>\n",
              "      <td>product_a</td>\n",
              "      <td>0.142857</td>\n",
              "      <td>0</td>\n",
              "    </tr>\n",
              "    <tr>\n",
              "      <th>536</th>\n",
              "      <td>user3</td>\n",
              "      <td>product_a</td>\n",
              "      <td>0.142857</td>\n",
              "      <td>0</td>\n",
              "    </tr>\n",
              "    <tr>\n",
              "      <th>47</th>\n",
              "      <td>user2</td>\n",
              "      <td>product_e</td>\n",
              "      <td>0.142857</td>\n",
              "      <td>500</td>\n",
              "    </tr>\n",
              "    <tr>\n",
              "      <th>570</th>\n",
              "      <td>user1</td>\n",
              "      <td>product_g</td>\n",
              "      <td>0.142857</td>\n",
              "      <td>0</td>\n",
              "    </tr>\n",
              "    <tr>\n",
              "      <th>592</th>\n",
              "      <td>user3</td>\n",
              "      <td>product_e</td>\n",
              "      <td>0.142857</td>\n",
              "      <td>0</td>\n",
              "    </tr>\n",
              "    <tr>\n",
              "      <th>589</th>\n",
              "      <td>user2</td>\n",
              "      <td>product_c</td>\n",
              "      <td>0.142857</td>\n",
              "      <td>0</td>\n",
              "    </tr>\n",
              "    <tr>\n",
              "      <th>703</th>\n",
              "      <td>user3</td>\n",
              "      <td>product_g</td>\n",
              "      <td>0.142857</td>\n",
              "      <td>160</td>\n",
              "    </tr>\n",
              "  </tbody>\n",
              "</table>\n",
              "</div>\n",
              "      <button class=\"colab-df-convert\" onclick=\"convertToInteractive('df-ad8e0e1a-e04d-4086-83c7-cfcb5cf9acf5')\"\n",
              "              title=\"Convert this dataframe to an interactive table.\"\n",
              "              style=\"display:none;\">\n",
              "        \n",
              "  <svg xmlns=\"http://www.w3.org/2000/svg\" height=\"24px\"viewBox=\"0 0 24 24\"\n",
              "       width=\"24px\">\n",
              "    <path d=\"M0 0h24v24H0V0z\" fill=\"none\"/>\n",
              "    <path d=\"M18.56 5.44l.94 2.06.94-2.06 2.06-.94-2.06-.94-.94-2.06-.94 2.06-2.06.94zm-11 1L8.5 8.5l.94-2.06 2.06-.94-2.06-.94L8.5 2.5l-.94 2.06-2.06.94zm10 10l.94 2.06.94-2.06 2.06-.94-2.06-.94-.94-2.06-.94 2.06-2.06.94z\"/><path d=\"M17.41 7.96l-1.37-1.37c-.4-.4-.92-.59-1.43-.59-.52 0-1.04.2-1.43.59L10.3 9.45l-7.72 7.72c-.78.78-.78 2.05 0 2.83L4 21.41c.39.39.9.59 1.41.59.51 0 1.02-.2 1.41-.59l7.78-7.78 2.81-2.81c.8-.78.8-2.07 0-2.86zM5.41 20L4 18.59l7.72-7.72 1.47 1.35L5.41 20z\"/>\n",
              "  </svg>\n",
              "      </button>\n",
              "      \n",
              "  <style>\n",
              "    .colab-df-container {\n",
              "      display:flex;\n",
              "      flex-wrap:wrap;\n",
              "      gap: 12px;\n",
              "    }\n",
              "\n",
              "    .colab-df-convert {\n",
              "      background-color: #E8F0FE;\n",
              "      border: none;\n",
              "      border-radius: 50%;\n",
              "      cursor: pointer;\n",
              "      display: none;\n",
              "      fill: #1967D2;\n",
              "      height: 32px;\n",
              "      padding: 0 0 0 0;\n",
              "      width: 32px;\n",
              "    }\n",
              "\n",
              "    .colab-df-convert:hover {\n",
              "      background-color: #E2EBFA;\n",
              "      box-shadow: 0px 1px 2px rgba(60, 64, 67, 0.3), 0px 1px 3px 1px rgba(60, 64, 67, 0.15);\n",
              "      fill: #174EA6;\n",
              "    }\n",
              "\n",
              "    [theme=dark] .colab-df-convert {\n",
              "      background-color: #3B4455;\n",
              "      fill: #D2E3FC;\n",
              "    }\n",
              "\n",
              "    [theme=dark] .colab-df-convert:hover {\n",
              "      background-color: #434B5C;\n",
              "      box-shadow: 0px 1px 3px 1px rgba(0, 0, 0, 0.15);\n",
              "      filter: drop-shadow(0px 1px 2px rgba(0, 0, 0, 0.3));\n",
              "      fill: #FFFFFF;\n",
              "    }\n",
              "  </style>\n",
              "\n",
              "      <script>\n",
              "        const buttonEl =\n",
              "          document.querySelector('#df-ad8e0e1a-e04d-4086-83c7-cfcb5cf9acf5 button.colab-df-convert');\n",
              "        buttonEl.style.display =\n",
              "          google.colab.kernel.accessAllowed ? 'block' : 'none';\n",
              "\n",
              "        async function convertToInteractive(key) {\n",
              "          const element = document.querySelector('#df-ad8e0e1a-e04d-4086-83c7-cfcb5cf9acf5');\n",
              "          const dataTable =\n",
              "            await google.colab.kernel.invokeFunction('convertToInteractive',\n",
              "                                                     [key], {});\n",
              "          if (!dataTable) return;\n",
              "\n",
              "          const docLinkHtml = 'Like what you see? Visit the ' +\n",
              "            '<a target=\"_blank\" href=https://colab.research.google.com/notebooks/data_table.ipynb>data table notebook</a>'\n",
              "            + ' to learn more about interactive tables.';\n",
              "          element.innerHTML = '';\n",
              "          dataTable['output_type'] = 'display_data';\n",
              "          await google.colab.output.renderOutput(dataTable, element);\n",
              "          const docLink = document.createElement('div');\n",
              "          docLink.innerHTML = docLinkHtml;\n",
              "          element.appendChild(docLink);\n",
              "        }\n",
              "      </script>\n",
              "    </div>\n",
              "  </div>\n",
              "  "
            ]
          },
          "metadata": {},
          "execution_count": 35
        }
      ],
      "source": [
        "logs[[\"user_features\", \"item_placed\", \"item_prob\", \"item_satisfaction\"]].sample(n=10)"
      ]
    },
    {
      "cell_type": "markdown",
      "id": "cc6a4c42-467f-4dfd-8e75-3d58a9c77781",
      "metadata": {
        "id": "cc6a4c42-467f-4dfd-8e75-3d58a9c77781"
      },
      "source": [
        "With all the dataset ready, lets compute the mean rewards (satisfaction) for the logging/production policy and the target policy:"
      ]
    },
    {
      "cell_type": "code",
      "execution_count": 36,
      "id": "082465c7-b149-40ac-aa40-a44116d2a7bf",
      "metadata": {
        "id": "082465c7-b149-40ac-aa40-a44116d2a7bf",
        "outputId": "585e4bc2-7861-4541-ecad-265f02284975",
        "colab": {
          "base_uri": "https://localhost:8080/"
        }
      },
      "outputs": [
        {
          "output_type": "stream",
          "name": "stdout",
          "text": [
            "Expected reward from logging policy:  63.38\n",
            "Expected reward from target policy:  101.51\n",
            "CPU times: user 10.4 s, sys: 290 ms, total: 10.7 s\n",
            "Wall time: 10.5 s\n"
          ]
        }
      ],
      "source": [
        "%%time\n",
        "sim = create_logs(n=100000)\n",
        "logging_policy = sim[\"item_satisfaction\"].mean()\n",
        "target_policy = sim[\"ab_test_satisfaction\"].mean()\n",
        "\n",
        "print(f\"Expected reward from logging policy: {logging_policy: .2f}\")\n",
        "print(f\"Expected reward from target policy: {target_policy: .2f}\")"
      ]
    },
    {
      "cell_type": "markdown",
      "id": "37a954a7-a0ea-4bec-9d60-3ec0ea549f40",
      "metadata": {
        "id": "37a954a7-a0ea-4bec-9d60-3ec0ea549f40"
      },
      "source": [
        "Now lets implement the IPS estimator:"
      ]
    },
    {
      "cell_type": "code",
      "execution_count": 37,
      "id": "14d1c5dc-8954-4ff6-9b96-7a49076d062a",
      "metadata": {
        "id": "14d1c5dc-8954-4ff6-9b96-7a49076d062a"
      },
      "outputs": [],
      "source": [
        "def compute_ips(df):\n",
        "    assert {\"model_prob\", \"item_prob\", \"item_satisfaction\"}.issubset(df.columns)\n",
        "    return (df[\"model_prob\"] / df[\"item_prob\"] * df[\"item_satisfaction\"]).mean()"
      ]
    },
    {
      "cell_type": "code",
      "execution_count": 38,
      "id": "f574b73d-38b7-4504-addc-47fd23839d40",
      "metadata": {
        "id": "f574b73d-38b7-4504-addc-47fd23839d40",
        "outputId": "9b86b81d-9e4b-4927-d61e-e8194659b60f",
        "colab": {
          "base_uri": "https://localhost:8080/"
        }
      },
      "outputs": [
        {
          "output_type": "execute_result",
          "data": {
            "text/plain": [
              "107.086"
            ]
          },
          "metadata": {},
          "execution_count": 38
        }
      ],
      "source": [
        "ips_est = compute_ips(logs)\n",
        "ips_est"
      ]
    },
    {
      "cell_type": "markdown",
      "id": "8d2a93e4-0e1d-45e1-846f-d7fd73bfb9de",
      "metadata": {
        "id": "8d2a93e4-0e1d-45e1-846f-d7fd73bfb9de"
      },
      "source": [
        "Computing the IPS estimator on our 1,000 entry log gives an average revenue of 109.34 (very close to the true performance of 100.99) compared with the average revenue of the logging policy of 63.36. Therefore, we should be confident to deploy our target policy to production and do an AB test comparing it with the logging policy as a final validation."
      ]
    },
    {
      "cell_type": "markdown",
      "id": "ce6d30c6-7684-47d6-a65c-523138f5ee5a",
      "metadata": {
        "id": "ce6d30c6-7684-47d6-a65c-523138f5ee5a"
      },
      "source": [
        "## Goals for this part of project:\n",
        "\n",
        "Finish the implementation of two additional off-policy estimators:\n",
        "1. Capped IPS\n",
        "2. Normalized Capped Importance Sampling (NCIS)\n",
        "\n",
        "Feel free to try different capping thresholds, and compare the reward and standard deviations of these estimators with the IPS estimator and mean reward.\n"
      ]
    },
    {
      "cell_type": "code",
      "execution_count": 48,
      "id": "5ec2fbc1-4b2d-4984-bc83-34d47cb067b4",
      "metadata": {
        "id": "5ec2fbc1-4b2d-4984-bc83-34d47cb067b4"
      },
      "outputs": [],
      "source": [
        "def compute_capped_ips(logs, cap=1000):\n",
        "    ips = ((logs['model_prob'] / logs['item_prob']) * logs['item_satisfaction'])\n",
        "    return ips.apply(lambda x: min(x, cap)).mean()\n"
      ]
    },
    {
      "cell_type": "code",
      "source": [
        "capped_ips = compute_capped_ips(logs)\n",
        "\n",
        "print(f'Capped IPS: {round(capped_ips, 3)}')"
      ],
      "metadata": {
        "id": "NFrRI43g3mvJ",
        "outputId": "172b6875-5147-4bce-ee39-05ba914e316d",
        "colab": {
          "base_uri": "https://localhost:8080/"
        }
      },
      "id": "NFrRI43g3mvJ",
      "execution_count": 52,
      "outputs": [
        {
          "output_type": "stream",
          "name": "stdout",
          "text": [
            "Capped IPS: 104.536\n"
          ]
        }
      ]
    },
    {
      "cell_type": "code",
      "execution_count": 50,
      "id": "e4b03cee-1438-4f1f-a170-4b535979b231",
      "metadata": {
        "id": "e4b03cee-1438-4f1f-a170-4b535979b231"
      },
      "outputs": [],
      "source": [
        "def compute_ncis(logs, cap=1000):\n",
        "    denom = (logs['model_prob'] / logs['item_prob']).apply(lambda x: min(x, cap)).mean()\n",
        "\n",
        "    return compute_capped_ips(logs, cap) / denom"
      ]
    },
    {
      "cell_type": "code",
      "source": [
        "\n",
        "ncis = compute_capped_ips(logs)\n",
        "\n",
        "print(f'NCIS: {round(ncis, 3)}')\n"
      ],
      "metadata": {
        "id": "CMb0Cg7w4SOW",
        "outputId": "8a4d596e-56c4-4e83-952e-76819bb5c766",
        "colab": {
          "base_uri": "https://localhost:8080/"
        }
      },
      "id": "CMb0Cg7w4SOW",
      "execution_count": 51,
      "outputs": [
        {
          "output_type": "stream",
          "name": "stdout",
          "text": [
            "NCIS: 104.536\n"
          ]
        }
      ]
    }
  ],
  "metadata": {
    "environment": {
      "kernel": "python3",
      "name": "tf2-gpu.2-6.m89",
      "type": "gcloud",
      "uri": "gcr.io/deeplearning-platform-release/tf2-gpu.2-6:m89"
    },
    "kernelspec": {
      "display_name": "Python 3",
      "language": "python",
      "name": "python3"
    },
    "language_info": {
      "codemirror_mode": {
        "name": "ipython",
        "version": 3
      },
      "file_extension": ".py",
      "mimetype": "text/x-python",
      "name": "python",
      "nbconvert_exporter": "python",
      "pygments_lexer": "ipython3",
      "version": "3.7.12"
    },
    "colab": {
      "name": "week4-evaluation.ipynb",
      "provenance": []
    }
  },
  "nbformat": 4,
  "nbformat_minor": 5
}